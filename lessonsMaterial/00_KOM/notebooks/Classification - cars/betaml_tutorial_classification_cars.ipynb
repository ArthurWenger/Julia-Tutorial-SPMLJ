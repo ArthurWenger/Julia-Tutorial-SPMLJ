{
 "cells": [
  {
   "cell_type": "markdown",
   "metadata": {},
   "source": [
    "# A classification task when labels are known - determining the country of origin of cars given the cars characteristics"
   ]
  },
  {
   "cell_type": "markdown",
   "metadata": {},
   "source": [
    "In this exercise we have some car technical characteristics (mpg, horsepower,weight, model year...) and the country of origin and we would like to create a model such that the country of origin can be accurately predicted given the technical characteristics.\n",
    "As the information to predict is a multi-class one, this is a _[classification]_(https://en.wikipedia.org/wiki/Statistical_classification) task.\n",
    "It is a challenging exercise due to the simultaneous presence of three factors: (1) presence of missing data; (2) unbalanced data - 254 out of 406 cars are US made; (3) small dataset.\n",
    "\n",
    "\n",
    "Data origin:\n",
    " - dataset description: [https://archive.ics.uci.edu/ml/datasets/auto+mpg](https://archive.ics.uci.edu/ml/datasets/auto+mpg)\n",
    " - data source we use here: [https://archive.ics.uci.edu/ml/machine-learning-databases/auto-mpg/auto-mpg.data](https://archive.ics.uci.edu/ml/machine-learning-databases/auto-mpg/auto-mpg.data-original)\n",
    "\n",
    "Field description:\n",
    "\n",
    " 1. mpg:           _continuous_\n",
    " 2. cylinders:     _multi-valued discrete_\n",
    " 3. displacement:  _continuous_\n",
    " 4. horsepower:    _continuous_\n",
    " 5. weight:        _continuous_\n",
    " 6. acceleration:  _continuous_\n",
    " 7. model year:    _multi-valued discrete_\n",
    " 8. origin:        _multi-valued discrete_\n",
    " 9. car name:      _string (unique for each instance)_ - not used here"
   ]
  },
  {
   "cell_type": "code",
   "execution_count": 2,
   "metadata": {},
   "outputs": [
    {
     "name": "stderr",
     "output_type": "stream",
     "text": [
      "\u001b[32m\u001b[1m  Activating\u001b[22m\u001b[39m environment at `~/CloudFiles/lef-nancy-sync/Documents/Teaching/2021-2022/M1  EEET - Introduction to Scientific Programming and Machine Learning with Julia (15h)/00_-_KOM_-_Kickoff_meeting/notebooks/Classification - cars/Project.toml`\n"
     ]
    }
   ],
   "source": [
    "cd(@__DIR__)\n",
    "using Pkg\n",
    "Pkg.activate(\".\")\n",
    "#Pkg.update()\n",
    "#Pkg.add([\"HTTP\",\"CSV\",\"DataFrames\",\"Pipe\",\"BenchmarkTools\", \"BetaML\"])\n",
    "Pkg.instantiate()"
   ]
  },
  {
   "cell_type": "markdown",
   "metadata": {},
   "source": [
    "## Library and data loading"
   ]
  },
  {
   "cell_type": "code",
   "execution_count": 3,
   "metadata": {},
   "outputs": [
    {
     "name": "stderr",
     "output_type": "stream",
     "text": [
      "┌ Info: Precompiling CSV [336ed68f-0bac-5ca0-87d4-7b16caf5d00b]\n",
      "└ @ Base loading.jl:1317\n",
      "┌ Info: Precompiling DataFrames [a93c6f00-e57d-5684-b7b6-d8193f3e46c0]\n",
      "└ @ Base loading.jl:1317\n"
     ]
    }
   ],
   "source": [
    "# We load a buch of packages that we'll use during this tutorial..\n",
    "using Random, HTTP, CSV, DataFrames, BenchmarkTools, BetaML\n",
    "import Pipe: @pipe"
   ]
  },
  {
   "cell_type": "markdown",
   "metadata": {},
   "source": [
    "To load the data from the internet our workflow is\n",
    "(1) Retrieve the data --> (2) Clean it --> (3) Load it --> (4) Output it as a DataFrame.\n",
    "\n",
    "For step (1) we use `HTTP.get()`, for step (2) we use `replace!`, for steps (3) and (4) we uses the `CSV` package, and we use the \"pip\" `|>` operator to chain these operations:"
   ]
  },
  {
   "cell_type": "code",
   "execution_count": 6,
   "metadata": {},
   "outputs": [],
   "source": [
    "urlDataOriginal = \"https://archive.ics.uci.edu/ml/machine-learning-databases/auto-mpg/auto-mpg.data-original\"  \n",
    "data = @pipe HTTP.get(urlDataOriginal).body                                                |>\n",
    "             replace!(_, UInt8('\\t') => UInt8(' '))                                        |>\n",
    "             CSV.File(_, delim=' ', missingstring=\"NA\", ignorerepeated=true, header=false) |>\n",
    "             DataFrame;"
   ]
  },
  {
   "cell_type": "markdown",
   "metadata": {},
   "source": [
    "This results in a table where the rows are the observations (the various cars) and the column the fields. All BetaML models expect this layout."
   ]
  },
  {
   "cell_type": "code",
   "execution_count": 7,
   "metadata": {},
   "outputs": [
    {
     "data": {
      "text/html": [
       "<div class=\"data-frame\"><p>9 rows × 7 columns (omitted printing of 1 columns)</p><table class=\"data-frame\"><thead><tr><th></th><th>variable</th><th>mean</th><th>min</th><th>median</th><th>max</th><th>nmissing</th></tr><tr><th></th><th title=\"Symbol\">Symbol</th><th title=\"Union{Nothing, Float64}\">Union…</th><th title=\"Any\">Any</th><th title=\"Union{Nothing, Float64}\">Union…</th><th title=\"Any\">Any</th><th title=\"Int64\">Int64</th></tr></thead><tbody><tr><th>1</th><td>Column1</td><td>23.5146</td><td>9.0</td><td>23.0</td><td>46.6</td><td>8</td></tr><tr><th>2</th><td>Column2</td><td>5.47537</td><td>3.0</td><td>4.0</td><td>8.0</td><td>0</td></tr><tr><th>3</th><td>Column3</td><td>194.78</td><td>68.0</td><td>151.0</td><td>455.0</td><td>0</td></tr><tr><th>4</th><td>Column4</td><td>105.082</td><td>46.0</td><td>95.0</td><td>230.0</td><td>6</td></tr><tr><th>5</th><td>Column5</td><td>2979.41</td><td>1613.0</td><td>2822.5</td><td>5140.0</td><td>0</td></tr><tr><th>6</th><td>Column6</td><td>15.5197</td><td>8.0</td><td>15.5</td><td>24.8</td><td>0</td></tr><tr><th>7</th><td>Column7</td><td>75.9212</td><td>70.0</td><td>76.0</td><td>82.0</td><td>0</td></tr><tr><th>8</th><td>Column8</td><td>1.56897</td><td>1.0</td><td>1.0</td><td>3.0</td><td>0</td></tr><tr><th>9</th><td>Column9</td><td></td><td>amc ambassador brougham</td><td></td><td>vw rabbit custom</td><td>0</td></tr></tbody></table></div>"
      ],
      "text/latex": [
       "\\begin{tabular}{r|ccccccc}\n",
       "\t& variable & mean & min & median & max & nmissing & \\\\\n",
       "\t\\hline\n",
       "\t& Symbol & Union… & Any & Union… & Any & Int64 & \\\\\n",
       "\t\\hline\n",
       "\t1 & Column1 & 23.5146 & 9.0 & 23.0 & 46.6 & 8 & $\\dots$ \\\\\n",
       "\t2 & Column2 & 5.47537 & 3.0 & 4.0 & 8.0 & 0 & $\\dots$ \\\\\n",
       "\t3 & Column3 & 194.78 & 68.0 & 151.0 & 455.0 & 0 & $\\dots$ \\\\\n",
       "\t4 & Column4 & 105.082 & 46.0 & 95.0 & 230.0 & 6 & $\\dots$ \\\\\n",
       "\t5 & Column5 & 2979.41 & 1613.0 & 2822.5 & 5140.0 & 0 & $\\dots$ \\\\\n",
       "\t6 & Column6 & 15.5197 & 8.0 & 15.5 & 24.8 & 0 & $\\dots$ \\\\\n",
       "\t7 & Column7 & 75.9212 & 70.0 & 76.0 & 82.0 & 0 & $\\dots$ \\\\\n",
       "\t8 & Column8 & 1.56897 & 1.0 & 1.0 & 3.0 & 0 & $\\dots$ \\\\\n",
       "\t9 & Column9 &  & amc ambassador brougham &  & vw rabbit custom & 0 & $\\dots$ \\\\\n",
       "\\end{tabular}\n"
      ],
      "text/plain": [
       "\u001b[1m9×7 DataFrame\u001b[0m\n",
       "\u001b[1m Row \u001b[0m│\u001b[1m variable \u001b[0m\u001b[1m mean    \u001b[0m\u001b[1m min                     \u001b[0m\u001b[1m median \u001b[0m\u001b[1m max              \u001b[0m\u001b[1m n\u001b[0m ⋯\n",
       "\u001b[1m     \u001b[0m│\u001b[90m Symbol   \u001b[0m\u001b[90m Union…  \u001b[0m\u001b[90m Any                     \u001b[0m\u001b[90m Union… \u001b[0m\u001b[90m Any              \u001b[0m\u001b[90m I\u001b[0m ⋯\n",
       "─────┼──────────────────────────────────────────────────────────────────────────\n",
       "   1 │ Column1   23.5146  9.0                      23.0    46.6                ⋯\n",
       "   2 │ Column2   5.47537  3.0                      4.0     8.0\n",
       "   3 │ Column3   194.78   68.0                     151.0   455.0\n",
       "   4 │ Column4   105.082  46.0                     95.0    230.0\n",
       "   5 │ Column5   2979.41  1613.0                   2822.5  5140.0              ⋯\n",
       "   6 │ Column6   15.5197  8.0                      15.5    24.8\n",
       "   7 │ Column7   75.9212  70.0                     76.0    82.0\n",
       "   8 │ Column8   1.56897  1.0                      1.0     3.0\n",
       "   9 │ Column9  \u001b[90m         \u001b[0m amc ambassador brougham \u001b[90m        \u001b[0m vw rabbit custom    ⋯\n",
       "\u001b[36m                                                               2 columns omitted\u001b[0m"
      ]
     },
     "execution_count": 7,
     "metadata": {},
     "output_type": "execute_result"
    }
   ],
   "source": [
    "# As the dataset is ordered, we randomly shuffle the data. Note that we pass to shuffle `copy(FIXEDRNG)` as the random nuber generator in order to obtain reproducible output ( [`FIXEDRNG`](@ref BetaML.Utils.FIXEDRNG) is nothing else than an istance of `StableRNG(123)` defined in the [`BetaML.Utils`](@ref utils_module) sub-module, but you can choose of course your own \"fixed\" RNG). See the [Dealing with stochasticity](@ref dealing_with_stochasticity) section in the [Getting started](@ref getting_started) tutorial for details.\n",
    "data[shuffle(copy(FIXEDRNG),axes(data, 1)), :]\n",
    "describe(data)"
   ]
  },
  {
   "cell_type": "markdown",
   "metadata": {},
   "source": [
    "Columns 1 to 7 contain  characteristics of the car, while column 8 encodes the country or origin (\"1\" -> US, \"2\" -> EU, \"3\" -> Japan). That's the variable we want to be able to predict.\n",
    "\n",
    "Columns 9 contains the car name, but we are not going to use this information in this tutorial.\n",
    "Note also that some fields have missing data.\n",
    "\n",
    "Our first step is hence to divide the dataset in features (the x) and the labels (the y) we want to predict. The `x` is then a Julia standard `Matrix` of 406 rows by 7 columns and the `y` is a vector of the 406 observations:"
   ]
  },
  {
   "cell_type": "code",
   "execution_count": 8,
   "metadata": {},
   "outputs": [],
   "source": [
    "x     = Matrix{Union{Missing,Float64}}(data[:,1:7]);\n",
    "y     = Vector{Int64}(data[:,8]);"
   ]
  },
  {
   "cell_type": "markdown",
   "metadata": {},
   "source": [
    "Some algorithms that we will use today don't work with missing data, so we need to _impute_ them. We use the [`predictMissing`](@ref) function provided by the [`BetaML.Clustering`](@ref clustering_module) sub-module. Internally the function uses a Gaussian Mixture Model to assign to the missing walue of a given record an average of the values of the non-missing records weighted for how close they are to our specific record.\n",
    "Note that the same function (`predictMissing`) can be used for Collaborative Filtering / recomendation systems. Using GMM has the advantage over traditional algorithms as k-nearest neighbors (KNN) that GMM can \"detect\" the hidden structure of the observed data, where some observation can be similar to a certain pool of other observvations for a certain characteristic, but similar to an other pool of observations for other characteristics."
   ]
  },
  {
   "cell_type": "code",
   "execution_count": 9,
   "metadata": {},
   "outputs": [
    {
     "name": "stdout",
     "output_type": "stream",
     "text": [
      "Iter. 1:\tVar. of the post  20.10554158364678 \t  Log-likelihood -12110.417616527317\n"
     ]
    }
   ],
   "source": [
    "xFull = predictMissing(x,rng=copy(FIXEDRNG)).X̂;"
   ]
  },
  {
   "cell_type": "markdown",
   "metadata": {},
   "source": [
    "Further, some models don't work with categorical data as such, so we need to represent our `y` as a matrix with a separate column for each possible categorical value (the so called \"one-hot\" representation).\n",
    "For example, within a three classes field, the individual value `2` (or `\"Europe\"` for what it matters) would be represented as the vector `[0 1 0]`, while `3` (or `\"Japan\"`) would become the vector `[0 0 1]`.\n",
    "To encode as one-hot we use the function [`oneHotEncoder`](@ref) in [`BetaML.Utils`](@ref utils_module)"
   ]
  },
  {
   "cell_type": "code",
   "execution_count": 11,
   "metadata": {},
   "outputs": [
    {
     "data": {
      "text/plain": [
       "406×3 Matrix{Int64}:\n",
       " 1  0  0\n",
       " 1  0  0\n",
       " 1  0  0\n",
       " 1  0  0\n",
       " 1  0  0\n",
       " 1  0  0\n",
       " 1  0  0\n",
       " 1  0  0\n",
       " 1  0  0\n",
       " 1  0  0\n",
       " 0  1  0\n",
       " 1  0  0\n",
       " 1  0  0\n",
       " ⋮     \n",
       " 1  0  0\n",
       " 1  0  0\n",
       " 1  0  0\n",
       " 1  0  0\n",
       " 0  0  1\n",
       " 1  0  0\n",
       " 1  0  0\n",
       " 1  0  0\n",
       " 0  1  0\n",
       " 1  0  0\n",
       " 1  0  0\n",
       " 1  0  0"
      ]
     },
     "execution_count": 11,
     "metadata": {},
     "output_type": "execute_result"
    }
   ],
   "source": [
    "y_oh  = oneHotEncoder(y)"
   ]
  },
  {
   "cell_type": "markdown",
   "metadata": {},
   "source": [
    "In supervised machine learning it is good practice to partition the available data in a _training_, _validation_, and _test_ subsets, where the first one is used to train the ML algorithm, the second one to train any eventual \"hyper-parameters\" of the algorithm and the _test_ subset is finally used to evaluate the quality of the algorithm.\n",
    "Here, for brevity, we use only the _train_ and the _test_ subsets, implicitly assuming we already know the best hyper-parameters. Please refer to the [regression tutorial](@ref regression_tutorial) for examples of how to use the validation subset to train the hyper-parameters, or even better the [clustering tutorial](@ref clustering_tutorial) for an example of using the [`crossValidation`](@ref) function."
   ]
  },
  {
   "cell_type": "markdown",
   "metadata": {},
   "source": [
    "We use then the [`partition`](@ref) function in [BetaML.Utils](@ref utils_module), where we can specify the different data to partition (each matrix or vector to partition must have the same number of observations) and the shares of observation that we want in each subset. Here we keep 80% of observations for training (`xtrain`, `xTrainFull` and `ytrain`) and we use 20% of them for testing (`xtest`, `xTestFull` and `ytest`):"
   ]
  },
  {
   "cell_type": "code",
   "execution_count": 13,
   "metadata": {},
   "outputs": [
    {
     "data": {
      "text/plain": [
       "4-element Vector{Vector{T} where T}:\n",
       " AbstractMatrix{Union{Missing, Float64}}[[33.8 4.0 … 18.0 80.0; 20.0 6.0 … 16.5 74.0; … ; 33.5 4.0 … 16.8 77.0; 31.8 4.0 … 19.2 79.0], [16.2 6.0 … 15.8 78.0; 30.0 4.0 … 21.8 80.0; … ; 36.4 5.0 … 19.9 80.0; 19.0 6.0 … 15.5 71.0]]\n",
       " AbstractMatrix{Float64}[[33.8 4.0 … 18.0 80.0; 20.0 6.0 … 16.5 74.0; … ; 33.5 4.0 … 16.8 77.0; 31.8 4.0 … 19.2 79.0], [16.2 6.0 … 15.8 78.0; 30.0 4.0 … 21.8 80.0; … ; 36.4 5.0 … 19.9 80.0; 19.0 6.0 … 15.5 71.0]]\n",
       " AbstractVector{Int64}[[3, 1, 2, 1, 2, 1, 3, 1, 1, 1  …  3, 1, 3, 1, 1, 1, 2, 1, 3, 3], [2, 2, 1, 1, 2, 1, 3, 3, 1, 1  …  3, 1, 1, 3, 1, 1, 1, 1, 2, 1]]\n",
       " AbstractMatrix{Int64}[[0 0 1; 1 0 0; … ; 0 0 1; 0 0 1], [0 1 0; 0 1 0; … ; 0 1 0; 1 0 0]]"
      ]
     },
     "execution_count": 13,
     "metadata": {},
     "output_type": "execute_result"
    }
   ],
   "source": [
    "((xtrain,xtest),(xtrainFull,xtestFull),(ytrain,ytest),(ytrain_oh,ytest_oh)) = partition([x,xFull,y,y_oh],[0.8,1-0.8],rng=copy(FIXEDRNG))"
   ]
  },
  {
   "cell_type": "markdown",
   "metadata": {},
   "source": [
    "## Random Forests"
   ]
  },
  {
   "cell_type": "markdown",
   "metadata": {},
   "source": [
    "We are now ready to use our first model, the Random Forests (in the [`BetaML.Trees`](@ref trees_module) sub-module). Random Forests build a \"forest\" of decision trees models and then average their predictions in order to make an overall prediction out of a feature vector.\n",
    "\n",
    "To \"build\" the forest model (i.e. to \"train\" it) we need to give the model the training feature matrix and the associated \"true\" training labels, and we need to specify the number of trees to employ (this is an example of hyper-parameters). Here we use 30 individual decision trees.\n",
    "\n",
    "As the labels are encoded using integers,  we need also to specify the parameter `forceClassification=true`, otherwise the model would undergo a _regression_ job instead."
   ]
  },
  {
   "cell_type": "code",
   "execution_count": 15,
   "metadata": {},
   "outputs": [],
   "source": [
    "myForest       = buildForest(xtrain,ytrain,30, rng=copy(FIXEDRNG),forceClassification=true);"
   ]
  },
  {
   "cell_type": "code",
   "execution_count": null,
   "metadata": {},
   "outputs": [],
   "source": [
    "# To obtain the predicted values, we can simply use the function [`BetaML.Trees.predict`](@ref)\n",
    "#src [`predict`](@ref BetaML.Trees.predict)  [`predict`](@ref forest_prediction)\n",
    "# with our `myForest` model and either the training or the testing data.\n",
    "ŷtrain,ŷtest   = predict.(Ref(myForest), [xtrain,xtest],rng=copy(FIXEDRNG));\n",
    "# Finally we can measure the _accuracy_ of our predictions with the [`accuracy`](@ref) function, with the sidenote that we need first to \"parse\" the ŷs as forcing the classification job transformed automatically them to strings (they originally were integers):\n",
    "trainAccuracy,testAccuracy  = accuracy.([parse.(Int64,mode(ŷtrain,rng=copy(FIXEDRNG))),parse.(Int64,mode(ŷtest,rng=copy(FIXEDRNG)))],[ytrain,ytest])\n",
    "#src (0.9969230769230769,0.8024691358024691)\n",
    "\n",
    "@test testAccuracy > 0.8 #src\n",
    "\n",
    "\n",
    "# The predictions are quite good, for the training set the algoritm predicted almost all cars' origins correctly, while for the testing set (i.e. those records that has **not** been used to train the algorithm), the correct prediction level is still quite high, at 80%\n",
    "\n",
    "# While accuracy can sometimes suffice, we may often want to better understand which categories our model has trouble to predict correctly.\n",
    "# We can investigate the output of a multi-class classifier more in-deep with a [`ConfusionMatrix`](@ref) where the true values (`y`) are given in rows and the predicted ones (`ŷ`) in columns, together to some per-class metrics like the _precision_ (true class _i_ over predicted in class _i_), the _recall_ (predicted class _i_ over the true class _i_) and others.\n",
    "\n",
    "# We fist build the [`ConfusionMatrix`](@ref BetaML.Utils.ConfusionMatrix) object between `ŷ` and `y` and then we print it (we do it here for the test subset):\n",
    "\n",
    "cm = ConfusionMatrix(parse.(Int64,mode(ŷtest,rng=copy(FIXEDRNG))),ytest,classes=[1,2,3],labels=[\"US\",\"EU\",\"Japan\"])\n",
    "print(cm;what=\"all\")\n",
    "\n",
    "# Because the printing of the confusion matrix employs `display`, the confusion matrix is printed on the script building this documentation pages rather than on the documentation pages themselves. Here it is:\n",
    "\n",
    "#\n",
    "# ```text\n",
    "# 4×4 Matrix{Any}:\n",
    "#  \"Labels\"    \"US\"    \"EU\"   \"Japan\"\n",
    "#  \"US\"      43       3      3\n",
    "#  \"EU\"       2      13      1\n",
    "#  \"Japan\"    5       2      9\n",
    "# 4×4 Matrix{Any}:\n",
    "#  \"Labels\"   \"US\"      \"EU\"       \"Japan\"\n",
    "#  \"US\"      0.877551  0.0612245  0.0612245\n",
    "#  \"EU\"      0.125     0.8125     0.0625\n",
    "#  \"Japan\"   0.3125    0.125      0.5625\n",
    "# ```\n",
    "\n",
    "# From the report we can see that Japanese cars have more trouble in being correctly classified, and in particular many Japanease cars are classified as US ones. This is likely a result of the class imbalance of the data set, and could be solved by balancing the dataset with various sampling tecniques before training the model.\n",
    "\n",
    "# When we benchmark the resourse used (time and memory) we find that Random Forests remain pretty fast, expecially when we compare them with neural networks (see later)\n",
    "@btime buildForest(xtrain,ytrain,30, rng=copy(FIXEDRNG),forceClassification=true);\n",
    "#src   134.096 ms (781027 allocations: 196.30 MiB)\n",
    "\n",
    "# ### Comparision with DecisionTree.jl\n",
    "\n",
    "# DecisionTrees.jl random forests are similar in usage: we first \"build\" (train) the forest and we then make predictions out of the trained model.\n",
    "# The main difference is that the model requires data with nonmissing values, so we are going to use the `xtrainFull` and `xtestFull` feature labels we created earlier:\n",
    "## We train the model...\n",
    "model = DecisionTree.build_forest(ytrain, xtrainFull,-1,30,rng=123)\n",
    "## ..and we generate predictions and measure their error\n",
    "(ŷtrain,ŷtest) = DecisionTree.apply_forest.([model],[xtrainFull,xtestFull]);\n",
    "(trainAccuracy,testAccuracy) = accuracy.([ŷtrain,ŷtest],[ytrain,ytest])\n",
    "#src (0.9969230769230769, 0.7530864197530864)\n",
    "\n",
    "#src cm = ConfusionMatrix(ŷtest,ytest,classes=[1,2,3],labels=[\"US\",\"EU\",\"Japan\"])\n",
    "#src println(cm)\n",
    "@test testAccuracy > 0.75 #src\n",
    "\n",
    "# While the accuracy on the training set is exactly the same as for `BetaML` random forets, `DecisionTree.jl` random forests are slighly less accurate in the testing sample.\n",
    "# Where however `DecisionTrees.jl` excell is in the efficiency: they are extremelly fast and memory thrifty, even if to this benchmark we should add the resources needed to impute the missing values.\n",
    "\n",
    "# Also, one of the reasons DecisionTrees are such efficient is that internally they sort the data to avoid repeated comparision, but in this way they work only with features that are sortable, while BetaML random forests accept virtually any kind of input without the need of adapt it.\n",
    "@btime  DecisionTree.build_forest(ytrain, xtrainFull,-1,30,rng=123);\n",
    "#src 1.431 ms (10875 allocations: 1.52 MiB)\n",
    "\n",
    "# ### Neural network\n",
    "\n",
    "# Neural networks (NN) can be very powerfull, but have two \"inconvenients\" compared with random forests: first, are a bit \"picky\". We need to do a bit of work to provide data in specific format. Note that this is _not_ feature engineering. One of the advantages on neural network is that for the most this is not needed for neural networks. However we still need to \"clean\" the data. One issue is that NN don't like missing data. So we need to provide them with the feature matrix \"clean\" of missing data. Secondly, they work only with numerical data. So we need to use the one-hot encoding we saw earlier.\n",
    "# Further, they work best if the features are scaled such that each feature has mean zero and standard deviation 1. We can achieve it with the function [`scale`](@ref) or, as in this case, [`getScaleFactors`](@ref).\n",
    "\n",
    "xScaleFactors   = getScaleFactors(xtrainFull)\n",
    "D               = size(xtrainFull,2)\n",
    "classes         = unique(y)\n",
    "nCl             = length(classes)\n",
    "\n",
    "# The second \"inconvenient\" of NN is that, while not requiring feature engineering, they stil lneed a bit of practice on the way to build the network. It's not as simple as `train(model,x,y)`. We need here to specify how we want our layers, _chain_ the layers together and then decide a _loss_ overall function. Only when we done these steps, we have the model ready for training.\n",
    "# Here we define 2 [`DenseLayer`](@ref) where, for each of them, we specify the number of neurons in input (the first layer being equal to the dimensions of the data), the output layer (for a classification task, the last layer output size beying equal to the number of classes) and an _activation function_ for each layer (default the `identity` function).\n",
    "ls   = 50\n",
    "l1   = DenseLayer(D,ls,f=relu,rng=copy(FIXEDRNG))\n",
    "l2   = DenseLayer(ls,nCl,f=relu,rng=copy(FIXEDRNG))\n",
    "\n",
    "# For a classification the last layer is a [`VectorFunctionLayer`](@ref) that has no learnable parameters but whose activation function is applied to the ensemble of the neurons, rather than individually on each neuron. In particular, for classification we pass the [`BetaML.Utils.softmax`](@ref) function whose output has the same size as the input (and the number of classes to predict), but we can use the `VectorFunctionLayer` with any function, including the [`pool1d`](@ref) function to create a \"pooling\" layer (using maximum, mean or whatever other subfunction we pass to `pool1d`)\n",
    "\n",
    "l3   = VectorFunctionLayer(nCl,f=softmax) ## Add a (parameterless) layer whose activation function (softMax in this case) is defined to all its nodes at once\n",
    "\n",
    "# Finally we _chain_ the layers and assign a loss function with [`buildNetwork`](@ref):\n",
    "mynn = buildNetwork([l1,l2,l3],squaredCost,name=\"Multinomial logistic regression Model Cars\") ## Build the NN and use the squared cost (aka MSE) as error function (crossEntropy could also be used)\n",
    "\n",
    "# Now we can train our network using the function [`train!`](@ref). It has many options, have a look at the documentation for all the possible arguments.\n",
    "# Note that we train the network based on the scaled feature matrix.\n",
    "res  = train!(mynn,scale(xtrainFull,xScaleFactors),ytrain_oh,epochs=500,batchSize=8,optAlg=ADAM(),rng=copy(FIXEDRNG)) ## Use optAlg=SGD() to use Stochastic Gradient Descent instead\n",
    "\n",
    "# Once trained, we can predict the label. As the trained was based on the scaled feature matrix, so must be for the predictions\n",
    "(ŷtrain,ŷtest)  = predict.(Ref(mynn),[scale(xtrainFull,xScaleFactors),scale(xtestFull,xScaleFactors)])\n",
    "trainAccuracy   = accuracy(ŷtrain,ytrain,rng=copy(FIXEDRNG))\n",
    "\n",
    "#-\n",
    "\n",
    "testAccuracy    = accuracy(ŷtest,ytest,rng=copy(FIXEDRNG))\n",
    "#src (0.8953846153846153, 0.7654320987654321\n",
    "\n",
    "@test testAccuracy > 0.76 #src\n",
    "\n",
    "#src accuracy(mode(ŷtest,rng=copy(FIXEDRNG)),ytest)\n",
    "\n",
    "cm = ConfusionMatrix(ŷtest,ytest,classes=[1,2,3],labels=[\"US\",\"EU\",\"Japan\"],rng=copy(FIXEDRNG))\n",
    "print(cm)\n",
    "\n",
    "# 4×4 Matrix{Any}:\n",
    "#  \"Labels\"    \"US\"    \"EU\"   \"Japan\"\n",
    "#  \"US\"      44       0      5\n",
    "#  \"EU\"       3      10      3\n",
    "#  \"Japan\"    6       2      8\n",
    "# 4×4 Matrix{Any}:\n",
    "#  \"Labels\"   \"US\"      \"EU\"   \"Japan\"\n",
    "#  \"US\"      0.897959  0.0    0.102041\n",
    "#  \"EU\"      0.1875    0.625  0.1875\n",
    "#  \"Japan\"   0.375     0.125  0.5\n",
    "\n",
    "\n",
    "\n",
    "# We see a bit the limits of neural networks in this example. While NN can be extremelly performant in many domains, they also require lot of data and computational power, expecially considering the many possible hyper-parameters and hence its large space in the hyper-parameter tuning.\n",
    "# In this example we arrive short to the performance of random forests, yet with a significant numberof neurons.\n",
    "\n",
    "@btime train!(mynn,scale(xtrainFull),ytrain_oh,epochs=300,batchSize=8,rng=copy(FIXEDRNG),verbosity=NONE);\n",
    "#src  11.841 s (62860672 allocations: 4.21 GiB)\n",
    "\n",
    "\n",
    "# ### Comparisons with Flux\n",
    "\n",
    "# In Flux the input must be in the form (fields, observations), so we transpose our original matrices\n",
    "xtrainT, ytrain_ohT = transpose.([scale(xtrainFull,xScaleFactors), ytrain_oh])\n",
    "xtestT, ytest_ohT   = transpose.([scale(xtestFull,xScaleFactors), ytest_oh])\n",
    "\n",
    "\n",
    "# We define the Flux neural network model in a similar way than BetaML and load it with data, we train it, predict and measure the accuracies on the training and the test sets:\n",
    "\n",
    "#src function poolForFlux(x,wsize=5)\n",
    "#src     hcat([pool1d(x[:,i],wsize;f=maximum) for i in 1:size(x,2)]...)\n",
    "#src end\n",
    "Random.seed!(123)\n",
    "\n",
    "l1         = Flux.Dense(D,ls,Flux.relu)\n",
    "#l2         = Flux.Dense(ls,ls,Flux.relu)\n",
    "l3         = Flux.Dense(ls,nCl,Flux.relu)\n",
    "Flux_nn    = Flux.Chain(l1,l3)\n",
    "loss(x, y) = Flux.logitcrossentropy(Flux_nn(x), y)\n",
    "ps         = Flux.params(Flux_nn)\n",
    "nndata     = Flux.Data.DataLoader((xtrainT, ytrain_ohT), batchsize=8,shuffle=true)\n",
    "begin for i in 1:500  Flux.train!(loss, ps, nndata, Flux.ADAM()) end end\n",
    "ŷtrain     = Flux.onecold(Flux_nn(xtrainT),1:3)\n",
    "ŷtest      = Flux.onecold(Flux_nn(xtestT),1:3)\n",
    "trainAccuracy =  accuracy(ŷtrain,ytrain)\n",
    "\n",
    "#-\n",
    "\n",
    "testAccuracy  = accuracy(ŷtest,ytest)\n",
    "#src 0.9384615384615385, 0.7407407407407407\n",
    "# While the train accuracy is little bit higher that BetaML, the test accuracy remains comparable\n",
    "\n",
    "@test testAccuracy > 0.74 #src\n",
    "\n",
    "# However the time is again lower than BetaML, even if here for \"just\" a factor 2\n",
    "@btime begin for i in 1:500 Flux.train!(loss, ps, nndata, Flux.ADAM()) end end;\n",
    "#src  5.665 s (8943640 allocations: 1.07 GiB)\n",
    "\n",
    "\n",
    "# ## Summary\n",
    "\n",
    "# This is the summary of the results we had trying to predict the country of origin of the cars, based on their technical characteristics:\n",
    "\n",
    "# | Model                | Train acc     | Test Acc |  Training time (ms)* | Training mem (MB) *|\n",
    "# |:-------------------- |:-------------:| --------:| ------------------- | ----------------- |\n",
    "# | RF                   | 0.9969        | 0.8025   | 134                 | 196               |\n",
    "# | RF (DecisionTree.jl) | 0.9969        | 0.7531   | 1.43                | 1.5               |\n",
    "# | NN                   | 0.895         | 0.765    | 11841               | 4311              |\n",
    "# | NN (Flux.jl)         | 0.938         | 0.741    | 5665                | 1096              |\n",
    "\n",
    "\n",
    "# * on a Intel Core i5-8350U laptop\n",
    "\n",
    "# We warn that this table just provides a rought idea of the various algorithms performances. Indeed there is a large amount of stochasticity both in the sampling of the data used for training/testing and in the initial settings of the parameters of the algorithm. For a statistically significant comparision we would have to repeat the analysis with multiple sampling (e.g. by cross-validation, see the [clustering tutorial](@ref clustering_tutorial) for an example) and initial random parameters.\n",
    "\n",
    "# Neverthless the table above shows that, when we compare BetaML with the algorithm-specific leading packages, we found similar results in terms of accuracy, but often the leading packages are better optimised and run more efficiently (but sometimes at the cost of being less verstatile).\n",
    "# Also, for this dataset, Random Forests seems to remain marginally more accurate than Neural Network, altought of course this depends on the hyper-parameters and, with a single run of the models, we don't know if this difference is significant."
   ]
  }
 ],
 "metadata": {
  "@webio": {
   "lastCommId": null,
   "lastKernelId": null
  },
  "kernelspec": {
   "display_name": "Julia 1.6.0",
   "language": "julia",
   "name": "julia-1.6"
  },
  "language_info": {
   "file_extension": ".jl",
   "mimetype": "application/julia",
   "name": "julia",
   "version": "1.6.0"
  }
 },
 "nbformat": 4,
 "nbformat_minor": 4
}
